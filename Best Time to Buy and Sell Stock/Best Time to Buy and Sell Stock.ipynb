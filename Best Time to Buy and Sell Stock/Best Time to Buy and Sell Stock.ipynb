{
 "cells": [
  {
   "cell_type": "code",
   "execution_count": null,
   "metadata": {},
   "outputs": [],
   "source": [
    "# Problem 11\n",
    "\n",
    "#You are given an array prices where prices[i] is the price of a given stock on the ith day.\n",
    "#\n",
    "#You want to maximize your profit by choosing a single day to buy one stock and choosing a different day in the future to sell that stock.\n",
    "#\n",
    "#Return the maximum profit you can achieve from this transaction. If you cannot achieve any profit, return 0.\n",
    "#\n",
    "# \n",
    "#\n",
    "#Example 1:\n",
    "#\n",
    "#Input: prices = [7,1,5,3,6,4]\n",
    "#Output: 5\n",
    "#Explanation: Buy on day 2 (price = 1) and sell on day 5 (price = 6), profit = 6-1 = 5.\n",
    "#Note that buying on day 2 and selling on day 1 is not allowed because you must buy before you sell.\n",
    "#Example 2:\n",
    "#\n",
    "#Input: prices = [7,6,4,3,1]\n",
    "#Output: 0\n",
    "#Explanation: In this case, no transactions are done and the max profit = 0."
   ]
  },
  {
   "cell_type": "code",
   "execution_count": 1,
   "metadata": {},
   "outputs": [],
   "source": [
    "# Solution 1\n",
    "\n",
    "class Solution:\n",
    "    def maxProfit(self, prices):\n",
    "        \n",
    "        buyprice = prices[0]\n",
    "        profit = 0\n",
    "        for i in range(1,len(prices)) :\n",
    "            if buyprice < prices[i] :\n",
    "                profit = max(profit,(prices[i]-buyprice))\n",
    "            else:\n",
    "                buyprice = prices[i]\n",
    "        return profit\n",
    "    \n",
    "    "
   ]
  },
  {
   "cell_type": "code",
   "execution_count": 2,
   "metadata": {},
   "outputs": [
    {
     "name": "stdout",
     "output_type": "stream",
     "text": [
      "5\n"
     ]
    }
   ],
   "source": [
    "#TC\n",
    "\n",
    "prices = [7,1,5,3,6,4]\n",
    "\n",
    "obj1 = Solution()\n",
    "print(obj1.maxProfit(prices))"
   ]
  },
  {
   "cell_type": "code",
   "execution_count": 3,
   "metadata": {},
   "outputs": [],
   "source": [
    "class Solution1:\n",
    "    def maxProfit(self, prices):\n",
    "        len_prices = len(prices)\n",
    "        \n",
    "        # base case\n",
    "        if len_prices < 2:\n",
    "            return 0\n",
    "        \n",
    "        left, right = 0, len_prices - 1\n",
    "        mid = left + (right - left) // 2\n",
    "        \n",
    "        left_prices = prices[0:mid + 1]    # mind plus one\n",
    "        right_prices = prices[mid + 1:]\n",
    "        \n",
    "        left_max_profit = self.maxProfit(left_prices)\n",
    "        right_max_profit = self.maxProfit(right_prices)\n",
    "        \n",
    "        left_min = min(left_prices)\n",
    "        right_max = max(right_prices)\n",
    "        \n",
    "        cross_max_profit = right_max - left_min\n",
    "        \n",
    "        return max(left_max_profit, right_max_profit, cross_max_profit)"
   ]
  },
  {
   "cell_type": "code",
   "execution_count": 4,
   "metadata": {},
   "outputs": [
    {
     "name": "stdout",
     "output_type": "stream",
     "text": [
      "5\n"
     ]
    }
   ],
   "source": [
    "prices = [7,1,5,3,6,4]\n",
    "\n",
    "obj = Solution1()\n",
    "print(obj.maxProfit(prices))"
   ]
  },
  {
   "cell_type": "code",
   "execution_count": 6,
   "metadata": {},
   "outputs": [],
   "source": [
    "class Solution3:\n",
    "    def maxProfit(self, prices):\n",
    "        max_profit = 0\n",
    "        previous_min = float('inf')\n",
    "        for price in prices:\n",
    "            previous_min = min(previous_min, price)\n",
    "            max_profit = max(max_profit, price - previous_min)\n",
    "        return max_profit"
   ]
  },
  {
   "cell_type": "code",
   "execution_count": 7,
   "metadata": {},
   "outputs": [
    {
     "name": "stdout",
     "output_type": "stream",
     "text": [
      "5\n"
     ]
    }
   ],
   "source": [
    "prices = [7,1,5,3,6,4]\n",
    "\n",
    "obj = Solution3()\n",
    "print(obj.maxProfit(prices))"
   ]
  },
  {
   "cell_type": "code",
   "execution_count": 9,
   "metadata": {},
   "outputs": [],
   "source": [
    "\n"
   ]
  },
  {
   "cell_type": "code",
   "execution_count": null,
   "metadata": {},
   "outputs": [],
   "source": []
  },
  {
   "cell_type": "code",
   "execution_count": null,
   "metadata": {},
   "outputs": [],
   "source": []
  }
 ],
 "metadata": {
  "kernelspec": {
   "display_name": "Python 3",
   "language": "python",
   "name": "python3"
  },
  "language_info": {
   "codemirror_mode": {
    "name": "ipython",
    "version": 3
   },
   "file_extension": ".py",
   "mimetype": "text/x-python",
   "name": "python",
   "nbconvert_exporter": "python",
   "pygments_lexer": "ipython3",
   "version": "3.8.5"
  }
 },
 "nbformat": 4,
 "nbformat_minor": 4
}
