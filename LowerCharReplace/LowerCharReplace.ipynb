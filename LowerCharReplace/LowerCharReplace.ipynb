{
 "cells": [
  {
   "cell_type": "code",
   "execution_count": 1,
   "metadata": {},
   "outputs": [
    {
     "name": "stdout",
     "output_type": "stream",
     "text": [
      "A1B2D3FH4\n"
     ]
    }
   ],
   "source": [
    "def lowertonum(st):\n",
    "    n = len(st)\n",
    "    i = 0\n",
    "    counter = 0   \n",
    "    while i <= n-1:\n",
    "        temp_ans = ''\n",
    "        if st[i].islower():\n",
    "            counter = counter + 1\n",
    "            st = st.replace(st[i],str(counter))  \n",
    "            if i > n-1:\n",
    "                break;\n",
    "        i = i + 1    \n",
    "                    \n",
    "                \n",
    "    return st        \n",
    "            \n",
    "\n",
    "st = 'AaBcDeFHi'\n",
    "print(lowertonum(st))"
   ]
  },
  {
   "cell_type": "code",
   "execution_count": null,
   "metadata": {},
   "outputs": [],
   "source": []
  }
 ],
 "metadata": {
  "kernelspec": {
   "display_name": "Python 3",
   "language": "python",
   "name": "python3"
  },
  "language_info": {
   "codemirror_mode": {
    "name": "ipython",
    "version": 3
   },
   "file_extension": ".py",
   "mimetype": "text/x-python",
   "name": "python",
   "nbconvert_exporter": "python",
   "pygments_lexer": "ipython3",
   "version": "3.8.5"
  }
 },
 "nbformat": 4,
 "nbformat_minor": 4
}
