{
 "cells": [
  {
   "cell_type": "code",
   "execution_count": null,
   "metadata": {},
   "outputs": [],
   "source": [
    "# write logic which gets a string with repetitive character\n",
    "# return result with combination of string and count of occurence\n",
    "\n",
    "# input st = aabccdeffg\n",
    "# result = a3b1c3d1e1f2g1"
   ]
  },
  {
   "cell_type": "code",
   "execution_count": 1,
   "metadata": {},
   "outputs": [
    {
     "name": "stdout",
     "output_type": "stream",
     "text": [
      "8\n",
      "a2b1c1d1e2f1\n"
     ]
    }
   ],
   "source": [
    "def Occurence(st):\n",
    "    Ans = ''\n",
    "    temp_Ans = ''\n",
    "    i = 0\n",
    "    counter = 1\n",
    "    print(len(st))\n",
    "    while i < (len(st)-1):\n",
    "        if st[i] == st[i+1]:\n",
    "            counter = counter + 1\n",
    "            if (i+1 >= len(st)-1):\n",
    "                temp_Ans = str(temp_Ans) + str(st[i+ 1]) + str('1')\n",
    "                break\n",
    "            i = i +1 \n",
    "        else:\n",
    "            temp_Ans = str(temp_Ans) + str(st[i]) + str(counter)\n",
    "            if (i+1 >= len(st)-1):\n",
    "                temp_Ans = str(temp_Ans) + str(st[i+ 1]) + str('1')\n",
    "                break\n",
    "            i = i + 1\n",
    "            counter = 1\n",
    "    Ans = Ans + temp_Ans\n",
    "    return Ans\n",
    "    \n",
    "st = 'aabcdeef'\n",
    "\n",
    "print(Occurence(st))"
   ]
  },
  {
   "cell_type": "code",
   "execution_count": null,
   "metadata": {},
   "outputs": [],
   "source": []
  }
 ],
 "metadata": {
  "kernelspec": {
   "display_name": "Python 3",
   "language": "python",
   "name": "python3"
  },
  "language_info": {
   "codemirror_mode": {
    "name": "ipython",
    "version": 3
   },
   "file_extension": ".py",
   "mimetype": "text/x-python",
   "name": "python",
   "nbconvert_exporter": "python",
   "pygments_lexer": "ipython3",
   "version": "3.8.5"
  }
 },
 "nbformat": 4,
 "nbformat_minor": 4
}
