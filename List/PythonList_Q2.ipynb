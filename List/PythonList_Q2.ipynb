{
 "cells": [
  {
   "cell_type": "code",
   "execution_count": null,
   "metadata": {},
   "outputs": [],
   "source": [
    "# Question 1\n",
    "# Complete the function below according to its docstring.\n",
    "\n",
    "def select_second(L):\n",
    "    \"\"\"Return the second element of the given list. If the list has no second\n",
    "    element, return None.\n",
    "    \"\"\"\n",
    "    "
   ]
  },
  {
   "cell_type": "code",
   "execution_count": 1,
   "metadata": {},
   "outputs": [
    {
     "name": "stdout",
     "output_type": "stream",
     "text": [
      "['2']\n",
      "None\n"
     ]
    }
   ],
   "source": [
    "def select_second(L):\n",
    "    if len(L) > 2:\n",
    "        return [L[1]]\n",
    "    return None\n",
    "\n",
    "L = ['1','2','3','4']\n",
    "L2 = ['1']\n",
    "\n",
    "print(select_second(L))\n",
    "print(select_second(L2))"
   ]
  },
  {
   "cell_type": "code",
   "execution_count": null,
   "metadata": {},
   "outputs": [],
   "source": [
    "# Question 2\n",
    "# You are analyzing sports teams. Members of each team are stored in a list. \n",
    "#The Coach is the first name in the list, the captain is the second name in the list, and other players are listed after that. \n",
    "#These lists are stored in another list, which starts with the best team and proceeds through the list to the worst team last. \n",
    "#Complete the function below to select the captain of the worst team.\n",
    "\n",
    "def losing_team_captain(teams):\n",
    "    \"\"\"Given a list of teams, where each team is a list of names, return the 2nd player (captain)\n",
    "    from the last listed team\n",
    "    \"\"\"\n",
    "\n",
    "# [['coach1','captain1','player1','player2','player3','player4'],['coach2','captain2','player1','player2','player3','player4'],['coach3','captain3','player1','player2','player3','player4']]\n"
   ]
  },
  {
   "cell_type": "code",
   "execution_count": 4,
   "metadata": {},
   "outputs": [
    {
     "name": "stdout",
     "output_type": "stream",
     "text": [
      "captain3\n"
     ]
    }
   ],
   "source": [
    "def losing_team_captain(teams):\n",
    "    return teams[-1][1]\n",
    "\n",
    "\n",
    "L = [['coach1','captain1','player1','player2','player3','player4'],['coach2','captain2','player1','player2','player3','player4'],['coach3','captain3','player1','player2','player3','player4']]\n",
    "print(losing_team_captain(L))"
   ]
  },
  {
   "cell_type": "code",
   "execution_count": 6,
   "metadata": {},
   "outputs": [
    {
     "name": "stdout",
     "output_type": "stream",
     "text": [
      "['Luigi', 'Bowser', 'Mario']\n"
     ]
    }
   ],
   "source": [
    "# Question 3\n",
    "\n",
    "#The next iteration of Mario Kart will feature an extra-infuriating new item, the Purple Shell. \n",
    "#When used, it warps the last place racer into first place and the first place racer into last place. \n",
    "#Complete the function below to implement the Purple Shell's effect.\n",
    "\n",
    "def purple_shell(racers):\n",
    "    \"\"\"Given a list of racers, set the first place racer (at the front of the list) to last\n",
    "    place and vice versa.\n",
    "    \n",
    "    >>> r = [\"Mario\", \"Bowser\", \"Luigi\"]\n",
    "    >>> purple_shell(r)\n",
    "    >>> r\n",
    "    [\"Luigi\", \"Bowser\", \"Mario\"]\n",
    "    \n",
    "    \"\"\"\n",
    "    temp = racers[0]\n",
    "    racers[0] = racers[-1]\n",
    "    racers[-1] = temp\n",
    "    return racers\n",
    "\n",
    "\n",
    "r = [\"Mario\", \"Bowser\", \"Luigi\"]\n",
    "\n",
    "print(purple_shell(r))\n",
    "    \n",
    "    \n",
    "    "
   ]
  },
  {
   "cell_type": "code",
   "execution_count": 11,
   "metadata": {},
   "outputs": [
    {
     "name": "stdout",
     "output_type": "stream",
     "text": [
      "3\n",
      "0\n",
      "2\n"
     ]
    }
   ],
   "source": [
    "# Question 4\n",
    "\n",
    "# What are the lengths of the following lists? Fill in the variable lengths with your predictions. \n",
    "# (Try to make a prediction for each list without just calling len() on it.)\n",
    "\n",
    "\n",
    "def check_length(lst):\n",
    "    counter = 0\n",
    "    for i in lst:\n",
    "        counter += 1\n",
    "        i += 1\n",
    "        \n",
    "    return counter\n",
    "\n",
    "a = [1, 2, 3]\n",
    "print(check_length(a))\n",
    "\n",
    "c = []\n",
    "print(check_length(c))\n",
    "d = [1, 2, 3][1:]\n",
    "print(check_length(d))\n",
    "        "
   ]
  },
  {
   "cell_type": "code",
   "execution_count": 15,
   "metadata": {},
   "outputs": [
    {
     "name": "stdout",
     "output_type": "stream",
     "text": [
      "fashionably late\n",
      "False\n",
      "False\n"
     ]
    }
   ],
   "source": [
    "#  Question 5\n",
    "\n",
    "#We're using lists to record people who attended our party and what order they arrived in. \n",
    "#For example, the following list represents a party with 7 guests, in which Adela showed up first and Ford was the \n",
    "#last to arrive:\n",
    "\n",
    "#party_attendees = ['Adela', 'Fleda', 'Owen', 'May', 'Mona', 'Gilbert', 'Ford']\n",
    "\n",
    "#A guest is considered 'fashionably late' if they arrived after at least half of the party's guests. \n",
    "#However, they must not be the very last guest (that's taking it too far). \n",
    "#In the above example, Mona and Gilbert are the only guests who were fashionably late.\n",
    "\n",
    "#Complete the function below which takes a list of party attendees as well as a person, \n",
    "#and tells us whether that person is fashionably late.\n",
    "\n",
    "\n",
    "def fashionably_late(arrivals, name):\n",
    "    \"\"\"Given an ordered list of arrivals to the party and a name, return whether the guest with that\n",
    "    name was fashionably late.\n",
    "    \"\"\"\n",
    "    \n",
    "    mid = len(arrivals)//2\n",
    "    if name == arrivals[-1]:\n",
    "        return \"False\"\n",
    "    if name in arrivals[mid:]:\n",
    "        return \"fashionably late\"\n",
    "    else:\n",
    "        return \"False\"\n",
    "    \n",
    "    \n",
    "party_attendees = ['Adela', 'Fleda', 'Owen', 'May', 'Mona', 'Gilbert', 'Ford']\n",
    "print(fashionably_late(party_attendees,\"Gilbert\"))\n",
    "print(fashionably_late(party_attendees,\"Ford\"))\n",
    "print(fashionably_late(party_attendees,\"Adela\"))\n",
    "    \n",
    "    "
   ]
  },
  {
   "cell_type": "code",
   "execution_count": 22,
   "metadata": {},
   "outputs": [
    {
     "name": "stdout",
     "output_type": "stream",
     "text": [
      "3\n"
     ]
    }
   ],
   "source": [
    "# Question 6\n",
    "\n",
    "#This question is intended more as a fun riddle than a test of your programming prowess :)\n",
    "\n",
    "#Implement the body of the following function without LOOPS!\n",
    "\n",
    "def count_negatives(nums):\n",
    "    \"\"\"Return the number of negative numbers in the given list.\n",
    "    \n",
    "    >>> count_negatives([5, -1, -2, 0, 3])\n",
    "    2\n",
    "    \"\"\"\n",
    "    count = 0\n",
    "    nums.append(0)\n",
    "    nums.sort()\n",
    "    return nums.index(0)\n",
    "    \n",
    "print(count_negatives([5, -1, -2, -3]))    \n",
    "    "
   ]
  },
  {
   "cell_type": "code",
   "execution_count": null,
   "metadata": {},
   "outputs": [],
   "source": []
  }
 ],
 "metadata": {
  "kernelspec": {
   "display_name": "Python 3",
   "language": "python",
   "name": "python3"
  },
  "language_info": {
   "codemirror_mode": {
    "name": "ipython",
    "version": 3
   },
   "file_extension": ".py",
   "mimetype": "text/x-python",
   "name": "python",
   "nbconvert_exporter": "python",
   "pygments_lexer": "ipython3",
   "version": "3.8.5"
  }
 },
 "nbformat": 4,
 "nbformat_minor": 4
}
