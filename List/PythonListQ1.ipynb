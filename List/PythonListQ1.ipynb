{
 "cells": [
  {
   "cell_type": "code",
   "execution_count": null,
   "metadata": {},
   "outputs": [],
   "source": [
    "# We have 3 list, we need to find the elements not present in list 2 and list3 present in list 1\n",
    "\n",
    "#Ex : List_1 = [1,2,3,4,5,6,7,8,9,10]\n",
    "# list_2 = [1,3,5,6,7]\n",
    "#list_3 = [1,3,9,10]\n",
    "\n",
    "#result = [2,4,8]"
   ]
  },
  {
   "cell_type": "code",
   "execution_count": 8,
   "metadata": {},
   "outputs": [
    {
     "name": "stdout",
     "output_type": "stream",
     "text": [
      "[2, 4, 8]\n"
     ]
    }
   ],
   "source": [
    "#solution 1\n",
    "\n",
    "def not_present(list1,list2,list3):\n",
    "    result_list =[]\n",
    "    list2.extend(list3)\n",
    "    dedupe_list = list(set(list2))\n",
    "    for i in list1:\n",
    "        if i not in dedupe_list:\n",
    "            result_list.append(i)\n",
    "            \n",
    "    return result_list    \n",
    "\n",
    "List_1 = [1,2,3,4,5,6,7,8,9,10]\n",
    "List_2 = [1,3,5,6,7]\n",
    "List_3 = [1,3,9,10]\n",
    "\n",
    "print(not_present(List_1,List_2,List_3))"
   ]
  },
  {
   "cell_type": "code",
   "execution_count": null,
   "metadata": {},
   "outputs": [],
   "source": [
    "# solution 2:\n"
   ]
  },
  {
   "cell_type": "code",
   "execution_count": 9,
   "metadata": {},
   "outputs": [
    {
     "name": "stdout",
     "output_type": "stream",
     "text": [
      "[8, 2, 4]\n"
     ]
    }
   ],
   "source": [
    "def not_present(list1,list2,list3):\n",
    "    result_list =[]\n",
    "    list2.extend(list3)\n",
    "    dedupe_list = list(set(list2))\n",
    "    result_list = list(set(list1)-set(list2))\n",
    "            \n",
    "    return result_list    \n",
    "\n",
    "List_1 = [1,2,3,4,5,6,7,8,9,10]\n",
    "List_2 = [1,3,5,6,7]\n",
    "List_3 = [1,3,9,10]\n",
    "\n",
    "print(not_present(List_1,List_2,List_3))"
   ]
  },
  {
   "cell_type": "code",
   "execution_count": null,
   "metadata": {},
   "outputs": [],
   "source": []
  }
 ],
 "metadata": {
  "kernelspec": {
   "display_name": "Python 3",
   "language": "python",
   "name": "python3"
  },
  "language_info": {
   "codemirror_mode": {
    "name": "ipython",
    "version": 3
   },
   "file_extension": ".py",
   "mimetype": "text/x-python",
   "name": "python",
   "nbconvert_exporter": "python",
   "pygments_lexer": "ipython3",
   "version": "3.8.5"
  }
 },
 "nbformat": 4,
 "nbformat_minor": 4
}
