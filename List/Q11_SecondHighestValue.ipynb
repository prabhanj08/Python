{
 "cells": [
  {
   "cell_type": "code",
   "execution_count": null,
   "metadata": {},
   "outputs": [],
   "source": [
    "# Problem 10\n",
    "# Find second highest value from a list\n",
    "#list - [10,9,11,7,4,6,5,8,12,3] - Second Largest Number\n",
    "\n",
    "# List which is unsorted\n",
    "\n",
    "# dataset might be huge"
   ]
  },
  {
   "cell_type": "code",
   "execution_count": 1,
   "metadata": {},
   "outputs": [
    {
     "name": "stdout",
     "output_type": "stream",
     "text": [
      "Test Case 1 :  12\n",
      "Test Case 2 :  Empty list\n",
      "Test Case 3 :  9\n",
      "Test Case 4 :  Single element in list\n"
     ]
    }
   ],
   "source": [
    "# Solution 1\n",
    "# Getting some mid value based on length\n",
    "# we can traverse 2 list\n",
    "\n",
    "\n",
    "def SecondLarge(input_list):\n",
    "  n = len(input_list)\n",
    "  if n == 0:\n",
    "    return \"Empty list\"\n",
    "  elif n == 1:\n",
    "    return \"Single element in list\"  \n",
    "  mid = n // 2\n",
    " \n",
    "  max_value = 0\n",
    "  second_max = 0\n",
    "  \n",
    "  left_list = input_list[:mid]\n",
    "  right_list = input_list[mid:]\n",
    "  i = 0\n",
    "  j = 0\n",
    "  \n",
    "  # check first element of left array with first element of right array\n",
    "  while (i < mid and j < n-1):\n",
    "    if (left_list[i] < right_list[j]): # [10 < 6]\n",
    "        if (max_value > right_list[j]):\n",
    "          second_max = right_list[j]\n",
    "        else:  \n",
    "          max_value = right_list[i]   \n",
    "          second_max = left_list[j]  # 6      \n",
    "        i = i + 1\n",
    "        j = j + 1\n",
    "    else: \n",
    "      if max_value > left_list[j] :\n",
    "        second_max = left_list[i]  \n",
    "      else:   \n",
    "        max_value = left_list[i]\n",
    "        second_max = right_list[j]        \n",
    "      i = i + 1\n",
    "      j = j + 1  \n",
    "   \n",
    "  k = 0\n",
    "  l = 0\n",
    "\n",
    "  while (k < mid):\n",
    "    if (left_list[k] > second_max and left_list[k] < max_value)   :\n",
    "      second_max = left_list[k]  \n",
    "    k = k + 1\n",
    "           \n",
    "  while (l < len(right_list)):\n",
    "    if (right_list[l] > second_max and right_list[l] < max_value)   :\n",
    "     second_max = right_list[l]            \n",
    "    l = l + 1\n",
    "    \n",
    "  return second_max  \n",
    "  \n",
    "#TC1  \n",
    "list = [10,9,15,7,4,6,5,8,12,3]\n",
    "print(\"Test Case 1 : \",SecondLarge(list))\n",
    "\n",
    "#TC2\n",
    "list2 = []\n",
    "print(\"Test Case 2 : \",SecondLarge(list2))\n",
    "\n",
    "#TC3  \n",
    "list3 = [10,9]\n",
    "print(\"Test Case 3 : \",SecondLarge(list3))\n",
    "\n",
    "#TC4 \n",
    "list4 = [1]\n",
    "print(\"Test Case 4 : \",SecondLarge(list4))\n",
    "\n",
    "  "
   ]
  },
  {
   "cell_type": "code",
   "execution_count": null,
   "metadata": {},
   "outputs": [],
   "source": [
    "# Solution 2\n",
    "# Split list in to two\n",
    "# Get max and min from list\n",
    "# compare max and min values from both"
   ]
  },
  {
   "cell_type": "code",
   "execution_count": 2,
   "metadata": {},
   "outputs": [
    {
     "name": "stdout",
     "output_type": "stream",
     "text": [
      "Test Case 1 :  12\n",
      "Test Case 2 :  Empty List\n",
      "Test Case 3 :  9\n",
      "Test Case 4 :  List is having single element\n"
     ]
    }
   ],
   "source": [
    "def SecondLargest(x):\n",
    "    if len(x) == 0:\n",
    "        return \"Empty List\"\n",
    "    elif len(x) == 1:\n",
    "        return \"List is having single element\"\n",
    "    largest = max(x[0],x[1])\n",
    "    largest2 = min(x[0],x[1])\n",
    "    for item in x:\n",
    "        if item > largest:\n",
    "           largest2 = largest\n",
    "           largest = item\n",
    "        elif largest2 < item and item < largest:\n",
    "           largest2 = item\n",
    "    return largest2\n",
    "\n",
    "#TC1  \n",
    "list = [10,9,15,7,4,6,5,8,12,3]\n",
    "print(\"Test Case 1 : \",SecondLargest(list))\n",
    "\n",
    "#TC2\n",
    "list2 = []\n",
    "print(\"Test Case 2 : \",SecondLargest(list2))\n",
    "\n",
    "#TC3  \n",
    "list3 = [10,9]\n",
    "print(\"Test Case 3 : \",SecondLargest(list3))\n",
    "\n",
    "#TC4 \n",
    "list4 = [1]\n",
    "print(\"Test Case 4 : \",SecondLargest(list4))"
   ]
  },
  {
   "cell_type": "code",
   "execution_count": null,
   "metadata": {},
   "outputs": [],
   "source": []
  }
 ],
 "metadata": {
  "kernelspec": {
   "display_name": "Python 3",
   "language": "python",
   "name": "python3"
  },
  "language_info": {
   "codemirror_mode": {
    "name": "ipython",
    "version": 3
   },
   "file_extension": ".py",
   "mimetype": "text/x-python",
   "name": "python",
   "nbconvert_exporter": "python",
   "pygments_lexer": "ipython3",
   "version": "3.8.5"
  }
 },
 "nbformat": 4,
 "nbformat_minor": 4
}
