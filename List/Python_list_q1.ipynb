{
 "cells": [
  {
   "cell_type": "code",
   "execution_count": null,
   "metadata": {},
   "outputs": [],
   "source": [
    "# Python Lists sample questions "
   ]
  },
  {
   "cell_type": "code",
   "execution_count": 1,
   "metadata": {},
   "outputs": [
    {
     "name": "stdout",
     "output_type": "stream",
     "text": [
      "Not Present\n"
     ]
    }
   ],
   "source": [
    "# Check if a list contains an element\n",
    "# Lst = ['1','2','3']\n",
    "#  check if 2 is present or not\n",
    "\n",
    "lst = ['1','2','3']\n",
    "\n",
    "if 2 in lst:\n",
    "    print('Present')\n",
    "else:\n",
    "    print('Not Present')\n"
   ]
  },
  {
   "cell_type": "code",
   "execution_count": 4,
   "metadata": {},
   "outputs": [
    {
     "name": "stdout",
     "output_type": "stream",
     "text": [
      "<class 'zip'>\n",
      "<zip object at 0x0000013C791688C0>\n",
      "1 3\n",
      "2 5\n",
      "3 7\n"
     ]
    }
   ],
   "source": [
    "# How to iterate over 2+ lists at the same time\n",
    "# lst 1 = ['1','2','3']\n",
    "# lst 2 = ['4','5']\n",
    "\n",
    "lst_1 = ['1','2','3']\n",
    "lst_2 = ['3','5','7']\n",
    "\n",
    "z = zip(lst_1,lst_2)\n",
    "\n",
    "print(type(z))\n",
    "\n",
    "print(z)\n",
    "\n",
    "for i,j in z:\n",
    "    print(i,j)"
   ]
  },
  {
   "cell_type": "code",
   "execution_count": 5,
   "metadata": {},
   "outputs": [
    {
     "name": "stdout",
     "output_type": "stream",
     "text": [
      "['1', '2', '3', '4']\n",
      "['1', '2', '3', '4', ['5', '6']]\n",
      "['1', '2', '3', '4', ['5', '6'], '7', '8']\n"
     ]
    }
   ],
   "source": [
    "# What is the difference between append and extend\n",
    "# lst.append()\n",
    "# lst.extend()\n",
    "\n",
    "lst = ['1','2','3']\n",
    "\n",
    "lst.append('4')\n",
    "print(lst)\n",
    "lst.append(['5','6'])\n",
    "print(lst)\n",
    "lst.extend(['7','8'])\n",
    "print(lst)"
   ]
  },
  {
   "cell_type": "code",
   "execution_count": 8,
   "metadata": {},
   "outputs": [
    {
     "name": "stdout",
     "output_type": "stream",
     "text": [
      "del list :  ['a', 'a', 'b', 'b', 'c', 'c']\n",
      "remove list : ['a', 'b', 'b', 'c', 'c']\n",
      "pop lst ['a', 'b', 'b', 'c']\n",
      "pop default :  ['a', 'b', 'b']\n"
     ]
    }
   ],
   "source": [
    "# difference between del,remove, pop\n",
    "\n",
    "lst = ['a','a', 'a', 'b', 'b', 'c', 'c']\n",
    "\n",
    "del lst[1]  # del will remove elements by index\n",
    "\n",
    "print('del list : ', lst )\n",
    "\n",
    "lst.remove('a')  # remove will delete first apperenace of the value i.e, a\n",
    "\n",
    "print(\"remove list :\",lst)\n",
    "\n",
    "lst.pop(4) # pop will remove elements by index, if index not provided then remove last element\n",
    "\n",
    "print(\"pop lst\",lst)\n",
    "\n",
    "lst.pop()\n",
    "\n",
    "print(\"pop default : \",lst)\n",
    "      "
   ]
  },
  {
   "cell_type": "code",
   "execution_count": 12,
   "metadata": {},
   "outputs": [
    {
     "name": "stdout",
     "output_type": "stream",
     "text": [
      "Approch 1  ['a', 'c', 'b']\n",
      "Approch 2 ['a', 'b', 'c']\n"
     ]
    }
   ],
   "source": [
    "# Remove duplicates from a list\n",
    "\n",
    "lst = ['a','a', 'a', 'b', 'b', 'c', 'c']\n",
    "\n",
    "# Approch 1\n",
    "# convert list to set and convert it back to list\n",
    "# This wont maintain order\n",
    "\n",
    "print(\"Approch 1 \",list(set(lst)))\n",
    "\n",
    "#Approch 2\n",
    "# create temp_lst as empty and loop list and append to temp_lst by comparing\n",
    "# this will maintain order\n",
    "\n",
    "lst_2 = ['a','a', 'a', 'b', 'b', 'c', 'c']\n",
    "\n",
    "temp_lst = []\n",
    "\n",
    "for i in lst_2:\n",
    "    if i in temp_lst:\n",
    "        pass\n",
    "    else:\n",
    "       temp_lst.append(i)\n",
    "        \n",
    "print(\"Approch 2\", temp_lst)        \n"
   ]
  },
  {
   "cell_type": "code",
   "execution_count": 14,
   "metadata": {},
   "outputs": [
    {
     "data": {
      "text/plain": [
       "2"
      ]
     },
     "execution_count": 14,
     "metadata": {},
     "output_type": "execute_result"
    }
   ],
   "source": [
    "# Find the index of the 1st matching element\n",
    "\n",
    "fruit = ['pear', 'orange', 'apple', 'grapefruit', 'apple', 'pear']\n",
    "fruit.index('apple')"
   ]
  },
  {
   "cell_type": "code",
   "execution_count": 16,
   "metadata": {},
   "outputs": [
    {
     "name": "stdout",
     "output_type": "stream",
     "text": [
      "None\n",
      "del list :  []\n"
     ]
    }
   ],
   "source": [
    "# Remove all elements from a list\n",
    "\n",
    "lst = ['1',3,'4']\n",
    "\n",
    "#using clear\n",
    "print(lst.clear())\n",
    "\n",
    "#using del\n",
    "del lst[:]\n",
    "\n",
    "print(\"del list : \", lst)"
   ]
  },
  {
   "cell_type": "code",
   "execution_count": 17,
   "metadata": {},
   "outputs": [
    {
     "name": "stdout",
     "output_type": "stream",
     "text": [
      "0: flour\n",
      "1: cheese\n",
      "2: carrots\n"
     ]
    }
   ],
   "source": [
    "# Iterate over both the values in a list and their indices\n",
    "\n",
    "grocery_list = ['flour','cheese','carrots']\n",
    "for idx,val in enumerate(grocery_list):\n",
    "    print(\"%s: %s\" % (idx, val))"
   ]
  },
  {
   "cell_type": "code",
   "execution_count": 18,
   "metadata": {},
   "outputs": [
    {
     "name": "stdout",
     "output_type": "stream",
     "text": [
      "['1', '2', '3', '4', '5', 6]\n"
     ]
    }
   ],
   "source": [
    "# How to concatenate two lists\n",
    "\n",
    "lst_1 = ['1','2','3']\n",
    "lst_2 = ['4','5',6]\n",
    "\n",
    "print(lst_1 + lst_2)"
   ]
  },
  {
   "cell_type": "code",
   "execution_count": 19,
   "metadata": {},
   "outputs": [
    {
     "name": "stdout",
     "output_type": "stream",
     "text": [
      "[2, 3, 4]\n"
     ]
    }
   ],
   "source": [
    "# How to manipulate every element in a list with list comprehension\n",
    "\n",
    "#Adding 1 to each element in list\n",
    "lst = [1,2,3]\n",
    "\n",
    "print([i+1 for i in lst])"
   ]
  },
  {
   "cell_type": "code",
   "execution_count": 21,
   "metadata": {},
   "outputs": [
    {
     "data": {
      "text/plain": [
       "2"
      ]
     },
     "execution_count": 21,
     "metadata": {},
     "output_type": "execute_result"
    }
   ],
   "source": [
    "# Count the occurrence of a specific object in a list\n",
    "\n",
    "lst = ['a','a', 'a', 'b', 'b', 'c', 'c']\n",
    "\n",
    "lst.count('b')\n",
    "       "
   ]
  },
  {
   "cell_type": "code",
   "execution_count": 22,
   "metadata": {},
   "outputs": [
    {
     "name": "stdout",
     "output_type": "stream",
     "text": [
      "['a', 'b', 'c']\n",
      "['a', 'b']\n"
     ]
    }
   ],
   "source": [
    "# How to shallow copy a list\n",
    "\n",
    "lst1 = ['a', 'b', 'c']\n",
    "lst2 = lst1.copy()\n",
    "lst2.remove('c')\n",
    "\n",
    "print(lst1)\n",
    "print(lst2)"
   ]
  },
  {
   "cell_type": "code",
   "execution_count": null,
   "metadata": {},
   "outputs": [],
   "source": []
  }
 ],
 "metadata": {
  "kernelspec": {
   "display_name": "Python 3",
   "language": "python",
   "name": "python3"
  },
  "language_info": {
   "codemirror_mode": {
    "name": "ipython",
    "version": 3
   },
   "file_extension": ".py",
   "mimetype": "text/x-python",
   "name": "python",
   "nbconvert_exporter": "python",
   "pygments_lexer": "ipython3",
   "version": "3.8.5"
  }
 },
 "nbformat": 4,
 "nbformat_minor": 4
}
