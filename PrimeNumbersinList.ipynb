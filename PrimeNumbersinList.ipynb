{
 "cells": [
  {
   "cell_type": "code",
   "execution_count": null,
   "metadata": {},
   "outputs": [],
   "source": [
    "# find prime numbers in list [2,3,5,6,8,1,14,17,18,25,27]"
   ]
  },
  {
   "cell_type": "code",
   "execution_count": 10,
   "metadata": {},
   "outputs": [
    {
     "name": "stdout",
     "output_type": "stream",
     "text": [
      "[2, 3, 5, 1, 17]\n"
     ]
    }
   ],
   "source": [
    "def find_prime(num):\n",
    "    for i in range(2,num):\n",
    "        if num % i == 0:\n",
    "            return \"non-prime\"\n",
    "    return \"Prime\"\n",
    "        \n",
    "input_list = [2,3,5,6,8,1,14,17,18,25,27]\n",
    "n = len(input_list)\n",
    "i = 0\n",
    "\n",
    "res = []\n",
    "while i < n -1:\n",
    "    result = ''\n",
    "    if input_list[i]!=1  :\n",
    "        result = find_prime(input_list[i])\n",
    "        if result == 'Prime':\n",
    "            res.append(input_list[i])\n",
    "        i = i +1    \n",
    "    else:\n",
    "        res.append(input_list[i])\n",
    "        i = i +1 \n",
    "        \n",
    "print(res)        \n",
    "        \n",
    "        \n",
    "        "
   ]
  },
  {
   "cell_type": "code",
   "execution_count": null,
   "metadata": {},
   "outputs": [],
   "source": []
  }
 ],
 "metadata": {
  "kernelspec": {
   "display_name": "Python 3",
   "language": "python",
   "name": "python3"
  },
  "language_info": {
   "codemirror_mode": {
    "name": "ipython",
    "version": 3
   },
   "file_extension": ".py",
   "mimetype": "text/x-python",
   "name": "python",
   "nbconvert_exporter": "python",
   "pygments_lexer": "ipython3",
   "version": "3.8.5"
  }
 },
 "nbformat": 4,
 "nbformat_minor": 4
}
