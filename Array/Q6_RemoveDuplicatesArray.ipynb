{
 "cells": [
  {
   "cell_type": "code",
   "execution_count": null,
   "metadata": {},
   "outputs": [],
   "source": [
    "# Problem 5\n",
    "# How to remove duplicates from a given array\n",
    "\n",
    "# A = [1,3,4,5,6,6,6,11,9]\n",
    "\n",
    "# result :[1,3,4,5,6,11,9]\n"
   ]
  },
  {
   "cell_type": "code",
   "execution_count": 10,
   "metadata": {},
   "outputs": [
    {
     "name": "stdout",
     "output_type": "stream",
     "text": [
      "[1, 3, 4, 5, 6, 11, 9]\n"
     ]
    }
   ],
   "source": [
    "# solution 1\n",
    "# Looping elements and passing them to new list without processing duplicate elements\n",
    "\n",
    "def removeduplicates(A):\n",
    "    dedup = []\n",
    "    for i in range(0,len(A)):\n",
    "        if A[i] not in dedup:\n",
    "            dedup.append(A[i])                \n",
    "    return dedup\n",
    "\n",
    "A = [1,3,4,5,6,6,6,11,9]\n",
    "print(removeduplicates(A))\n",
    "    \n",
    "    "
   ]
  },
  {
   "cell_type": "code",
   "execution_count": 24,
   "metadata": {},
   "outputs": [
    {
     "name": "stdout",
     "output_type": "stream",
     "text": [
      "[1, 3, 4, 5, 6, 11, 9]\n"
     ]
    }
   ],
   "source": [
    "# Solution 2\n",
    "# using dictinories\n",
    "\n",
    "def removeduplicates(A):\n",
    "    A = list(dict.fromkeys(A))\n",
    "    return A\n",
    "\n",
    "\n",
    "\n",
    "A = [1,3,4,5,6,6,6,11,9]\n",
    "print(removeduplicates(A))"
   ]
  },
  {
   "cell_type": "code",
   "execution_count": null,
   "metadata": {},
   "outputs": [],
   "source": []
  }
 ],
 "metadata": {
  "kernelspec": {
   "display_name": "Python 3",
   "language": "python",
   "name": "python3"
  },
  "language_info": {
   "codemirror_mode": {
    "name": "ipython",
    "version": 3
   },
   "file_extension": ".py",
   "mimetype": "text/x-python",
   "name": "python",
   "nbconvert_exporter": "python",
   "pygments_lexer": "ipython3",
   "version": "3.8.5"
  }
 },
 "nbformat": 4,
 "nbformat_minor": 4
}
