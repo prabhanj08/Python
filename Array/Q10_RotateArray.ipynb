{
 "cells": [
  {
   "cell_type": "code",
   "execution_count": null,
   "metadata": {},
   "outputs": [],
   "source": [
    "# Problem 10\n",
    "\n",
    "#Given an array, rotate the array to the right by k steps, where k is non-negative.\n",
    "\n",
    "#Example 1:\n",
    "\n",
    "#Input: nums = [1,2,3,4,5,6,7], k = 3\n",
    "#Output: [5,6,7,1,2,3,4]\n",
    "#Explanation:\n",
    "#rotate 1 steps to the right: [7,1,2,3,4,5,6]\n",
    "#rotate 2 steps to the right: [6,7,1,2,3,4,5]\n",
    "#rotate 3 steps to the right: [5,6,7,1,2,3,4]\n",
    "\n",
    "#Example 2:\n",
    "\n",
    "#Input: nums = [-1,-100,3,99], k = 2\n",
    "#Output: [3,99,-1,-100]\n",
    "#Explanation: \n",
    "#rotate 1 steps to the right: [99,-1,-100,3]\n",
    "#rotate 2 steps to the right: [3,99,-1,-100]"
   ]
  },
  {
   "cell_type": "code",
   "execution_count": null,
   "metadata": {},
   "outputs": [],
   "source": [
    "# Possible test cases to handle\n",
    "\n",
    "# array might be empty\n",
    "# array might have only single element\n"
   ]
  },
  {
   "cell_type": "code",
   "execution_count": 5,
   "metadata": {},
   "outputs": [],
   "source": [
    "# Algo\n",
    "# check if length less then or equal to 1 , if true then return nums\n",
    "# create a shift flag as 0 and create a while loop until k\n",
    "# get a temp var, store array[first_index] in temp and replace array[first_index] with last_index element\n",
    "# create logic to shift elements to index+1 \n",
    "\n",
    "\n",
    "class Solution1:\n",
    "    def rotate(self, nums, k):\n",
    "        \"\"\"\n",
    "        Do not return anything, modify nums in-place instead.\n",
    "        \"\"\"\n",
    "        \n",
    "        def shiftIndex(temp,nums,last_index,array_length):\n",
    "            while last_index > 0:\n",
    "                nums[last_index] = nums[last_index -1]\n",
    "                last_index -= 1                \n",
    "            nums[0] = temp            \n",
    "            return nums\n",
    "                        \n",
    "        array_length = len(nums)\n",
    "        if array_length <=1 :\n",
    "            return nums\n",
    "        \n",
    "        shift = 0\n",
    "        while shift < k :\n",
    "            first_index = 0\n",
    "            last_index = array_length -1\n",
    "            temp = nums[last_index]    # 7\n",
    "            \n",
    "            nums = shiftIndex(temp,nums,last_index,array_length)\n",
    "            shift +=1\n",
    "        return nums\n",
    "    "
   ]
  },
  {
   "cell_type": "code",
   "execution_count": 6,
   "metadata": {},
   "outputs": [
    {
     "name": "stdout",
     "output_type": "stream",
     "text": [
      "[5, 6, 7, 1, 2, 3, 4]\n"
     ]
    }
   ],
   "source": [
    "nums = [1,2,3,4,5,6,7]\n",
    "k = 3\n",
    "\n",
    "obj = Solution1()\n",
    "print(obj.rotate(nums,k))"
   ]
  },
  {
   "cell_type": "code",
   "execution_count": null,
   "metadata": {},
   "outputs": [],
   "source": [
    "# cons of solution1 is , if data set volumne increases, then time complexity will be increased"
   ]
  },
  {
   "cell_type": "code",
   "execution_count": null,
   "metadata": {},
   "outputs": [],
   "source": []
  },
  {
   "cell_type": "code",
   "execution_count": 37,
   "metadata": {},
   "outputs": [],
   "source": [
    "\n",
    "# Solution 2\n",
    "\n",
    "# kind of binary search approch\n",
    "# Try to reverse given array\n",
    "# take modular of given k with length of nums\n",
    "# pass start as 0 and end as k to reversed array, this will reverse first half of array\n",
    "# pass start as k and end as n-1 on array, this will reverse elements from k to n-1\n",
    "\n",
    "\n",
    "class Solution2:\n",
    "    def rotate(self, nums, k):\n",
    "        \"\"\"\n",
    "        Do not return anything, modify nums in-place instead.\n",
    "        \"\"\"\n",
    "        if nums==[]:\n",
    "            return\n",
    "        if len(nums)==1:\n",
    "            return\n",
    "        k = k%len(nums)\n",
    "        n = len(nums)\n",
    "        \n",
    "        \n",
    "        def reverse(l,start,end):\n",
    "            while(start<=end):\n",
    "                l[start],l[end]=l[end],l[start]\n",
    "                start+=1\n",
    "                end-=1\n",
    "        reverse(nums,0,n-1) \n",
    "        reverse(nums,0,k-1)\n",
    "        reverse(nums,k,n-1)\n",
    "        \n",
    "        return nums"
   ]
  },
  {
   "cell_type": "code",
   "execution_count": 38,
   "metadata": {},
   "outputs": [
    {
     "name": "stdout",
     "output_type": "stream",
     "text": [
      "[5, 6, 7, 1, 2, 3, 4]\n"
     ]
    }
   ],
   "source": [
    "nums = [1,2,3,4,5,6,7]\n",
    "k = 3\n",
    "\n",
    "obj = Solution2()\n",
    "print(obj.rotate(nums,k))"
   ]
  },
  {
   "cell_type": "code",
   "execution_count": 41,
   "metadata": {},
   "outputs": [],
   "source": [
    "\n",
    "\n",
    "class Solution3:\n",
    "    def rotate(self, nums, k):\n",
    "        if len(nums) <= 1 or k == 0:\n",
    "            return\n",
    "        \n",
    "        n = len(nums)\n",
    "        rotate_size = k % n\n",
    "        print(\"rotate_size :\", rotate_size)\n",
    "\n",
    "        num_swaps = 0\n",
    "        start = 0\n",
    "        while num_swaps < len(nums):\n",
    "            next_index = -1\n",
    "            index = start\n",
    "            prev_val = nums[index]\n",
    "            while next_index != start:\n",
    "                next_index = (index + rotate_size) % n\n",
    "                temp = nums[next_index]\n",
    "                nums[next_index] = prev_val\n",
    "                prev_val = temp\n",
    "                index = next_index\n",
    "                num_swaps += 1\n",
    "            \n",
    "            start += 1\n",
    "            \n",
    "        return nums    \n"
   ]
  },
  {
   "cell_type": "code",
   "execution_count": 42,
   "metadata": {},
   "outputs": [
    {
     "name": "stdout",
     "output_type": "stream",
     "text": [
      "rotate_size : 3\n",
      "[5, 6, 7, 1, 2, 3, 4]\n"
     ]
    }
   ],
   "source": [
    "nums = [1,2,3,4,5,6,7]\n",
    "k = 3\n",
    "\n",
    "obj = Solution3()\n",
    "print(obj.rotate(nums,k))"
   ]
  },
  {
   "cell_type": "code",
   "execution_count": null,
   "metadata": {},
   "outputs": [],
   "source": []
  }
 ],
 "metadata": {
  "kernelspec": {
   "display_name": "Python 3",
   "language": "python",
   "name": "python3"
  },
  "language_info": {
   "codemirror_mode": {
    "name": "ipython",
    "version": 3
   },
   "file_extension": ".py",
   "mimetype": "text/x-python",
   "name": "python",
   "nbconvert_exporter": "python",
   "pygments_lexer": "ipython3",
   "version": "3.8.5"
  }
 },
 "nbformat": 4,
 "nbformat_minor": 4
}
