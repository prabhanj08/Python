{
 "cells": [
  {
   "cell_type": "code",
   "execution_count": null,
   "metadata": {},
   "outputs": [],
   "source": [
    "# Problem 8\n",
    "\n",
    "# search a target value in a rotated array\n",
    "\n",
    "#Example 1:\n",
    "\n",
    "#Input: nums = [4,5,6,7,0,1,2], target = 0\n",
    "#Output: 4\n",
    "\n",
    "#Example 2:\n",
    "\n",
    "#Input: nums = [4,5,6,7,0,1,2], target = 3\n",
    "#Output: -1\n",
    "\n",
    "#Example 3:\n",
    "\n",
    "#Input: nums = [1], target = 0\n",
    "#Output: -1"
   ]
  },
  {
   "cell_type": "code",
   "execution_count": 13,
   "metadata": {},
   "outputs": [
    {
     "name": "stdout",
     "output_type": "stream",
     "text": [
      "mid : 3\n",
      "mid : 5\n",
      "mid : 4\n",
      "4\n"
     ]
    }
   ],
   "source": [
    "# Solution 1\n",
    "\n",
    "import math\n",
    "class SearchRotatedArray:\n",
    "    def search(self, nums,target):\n",
    "        left = 0\n",
    "        right = len(nums)-1\n",
    "        while left <= right:\n",
    "            mid = math.floor(left + (right-left)/2)\n",
    "            print(\"mid :\", mid)\n",
    "            if nums[mid] == target:\n",
    "                return mid\n",
    "            if target < nums[mid] and nums[left] <= nums[mid]:\n",
    "                if target < nums[left]:\n",
    "                    left = mid + 1\n",
    "                else:\n",
    "                    right = mid-1\n",
    "            elif target < nums[mid] and nums[left] > nums[mid]:\n",
    "                right = mid-1\n",
    "            elif target > nums[mid] and nums[right] >= nums[mid]:\n",
    "                if target > nums[right]:\n",
    "                    right = mid-1\n",
    "                else:\n",
    "                    left = mid+1\n",
    "            elif target > nums[mid] and nums[right] < nums[mid]:\n",
    "                left = mid+1\n",
    "            else:\n",
    "                break\n",
    "        return -1\n",
    "  \n",
    "\n",
    "\n",
    "\n",
    "\n",
    "arr = [4,5,6,7,0,1,2]\n",
    "target = 0\n",
    "\n",
    "obj = SearchRotatedArray()\n",
    "\n",
    "print(obj.search(arr,target))"
   ]
  },
  {
   "cell_type": "code",
   "execution_count": null,
   "metadata": {},
   "outputs": [],
   "source": []
  },
  {
   "cell_type": "code",
   "execution_count": 18,
   "metadata": {},
   "outputs": [
    {
     "name": "stdout",
     "output_type": "stream",
     "text": [
      "4\n"
     ]
    }
   ],
   "source": [
    "#Solution 2\n",
    "\n",
    "class SearchRotatedArray2:\n",
    "    def search(self, nums,target):\n",
    "        def subsearch(start, end):\n",
    "            '''\n",
    "            start: start index of the section in nums\n",
    "            end: end index + 1 of the section (ie. end - start equals to the section length)\n",
    "            '''\n",
    "            if end - start == 1:\n",
    "            # if the section length is 1 just check if the first element is the target\n",
    "                return start if nums[start] == target else -1\n",
    "\n",
    "            middle = (start + end) // 2\n",
    "            v1 = nums[start]\n",
    "            v2 = nums[middle - 1]\n",
    "            v3 = nums[middle]\n",
    "            v4 = nums[end - 1]\n",
    "            \n",
    "            if v1 <= target <= v2:\n",
    "                # nums[start:middle] is sorted (no pivot)\n",
    "                # target is in this section if exists\n",
    "                return subsearch(start, middle)\n",
    "            \n",
    "            if v3 <= target <= v4:\n",
    "               # nums[middle:end] is sorted (no pivot)\n",
    "                # target is in this section if exists\n",
    "                return subsearch(middle, end)\n",
    "            \n",
    "            # The target is in the pivoted section if exists\n",
    "            if v1 > v2:\n",
    "            # nums[start:middle] is the pivoted section\n",
    "                return subsearch(start, middle)\n",
    "            # nums[middle:end] is the pivoted section\n",
    "            return subsearch(middle, end)\n",
    "        \n",
    "        return subsearch(0, len(nums))\n",
    "    \n",
    "    \n",
    "arr = [4,5,6,7,0,1,2]\n",
    "target = 0\n",
    "\n",
    "obj = SearchRotatedArray2()\n",
    "\n",
    "print(obj.search(arr,target))    "
   ]
  },
  {
   "cell_type": "code",
   "execution_count": null,
   "metadata": {},
   "outputs": [],
   "source": []
  }
 ],
 "metadata": {
  "kernelspec": {
   "display_name": "Python 3",
   "language": "python",
   "name": "python3"
  },
  "language_info": {
   "codemirror_mode": {
    "name": "ipython",
    "version": 3
   },
   "file_extension": ".py",
   "mimetype": "text/x-python",
   "name": "python",
   "nbconvert_exporter": "python",
   "pygments_lexer": "ipython3",
   "version": "3.8.5"
  }
 },
 "nbformat": 4,
 "nbformat_minor": 4
}
