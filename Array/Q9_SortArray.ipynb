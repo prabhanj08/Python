{
 "cells": [
  {
   "cell_type": "code",
   "execution_count": null,
   "metadata": {},
   "outputs": [],
   "source": [
    "# Problem 9\n",
    "\n",
    "#Given an array of integers nums, sort the array in ascending order.\n",
    "\n",
    "# possible scenarios\n",
    "# array might contains duplicates\n",
    "# array might contains negative numbers\n",
    "# array might be empty\n",
    "\n",
    "#Example 1:\n",
    "\n",
    "#Input: nums = [5,2,3,1]\n",
    "#Output: [1,2,3,5]\n",
    "\n",
    "#Example 2:\n",
    "\n",
    "#Input: nums = [5,1,1,2,0,0]\n",
    "#Output: [0,0,1,1,2,5]"
   ]
  },
  {
   "cell_type": "code",
   "execution_count": 11,
   "metadata": {},
   "outputs": [
    {
     "name": "stdout",
     "output_type": "stream",
     "text": [
      "[-3, 1, 2, 5]\n",
      "[0, 0, 1, 1, 2, 3, 3, 4, 5, 5, 6, 7, 8, 21, 22, 22, 36, 44, 46, 55, 66, 76, 98, 99, 234, 987, 2342]\n",
      "[]\n"
     ]
    }
   ],
   "source": [
    "# time complexity o(n)\n",
    "# create two for loops, outer with range 0,n and inner i+1,n\n",
    "# compare and swap using temp variable and loop through all elements\n",
    "class Solution:\n",
    "    def sortArray(self,nums):\n",
    "        n = len(nums)\n",
    "        i = 0\n",
    "        j = 1\n",
    "        temp = []\n",
    "        for i in range(0,n):\n",
    "            for j in range(i+1,n):            \n",
    "                if (nums[i] > nums[j]): # 5 > 2  [5,2,3,1]\n",
    "                    temp = nums[i] # temp [5]\n",
    "                    nums[i] = nums[j]  # 5  [2,2,3,1]\n",
    "                    nums[j] = temp # [[2,5,3,1]\n",
    "        return nums         \n",
    "\n",
    "num = [5,2,-3,1]    \n",
    "obj = Solution()\n",
    "print(obj.sortArray(num))\n",
    "\n",
    "num = [5,1,1,2,0,0,3,4,5,46,3,76,21,6,7,8,99,36,22,987,44,55,66,22,234,2342,98]\n",
    "obj2 = Solution()\n",
    "print(obj2.sortArray(num))    \n",
    "\n",
    "num = []    \n",
    "obj = Solution()\n",
    "print(obj.sortArray(num))"
   ]
  },
  {
   "cell_type": "code",
   "execution_count": 28,
   "metadata": {},
   "outputs": [
    {
     "name": "stdout",
     "output_type": "stream",
     "text": [
      "[-3, 1, 2, 5]\n",
      "[]\n"
     ]
    }
   ],
   "source": [
    "\n",
    "class Solution2:\n",
    "    \n",
    "    def mergeArray(self, left,right):\n",
    "        result = []\n",
    "        left_index = 0\n",
    "        right_index = 0\n",
    "        while (left_index < len(left) and (right_index < len(right))):\n",
    "            if left[left_index] < right[right_index]:\n",
    "                result.append(left[left_index])\n",
    "                left_index += 1\n",
    "            else:\n",
    "                result.append(right[right_index])\n",
    "                right_index += 1\n",
    "        while  (left_index < len(left)):\n",
    "                result.append(left[left_index])\n",
    "                left_index += 1\n",
    "        while (right_index < len(right)):\n",
    "                result.append(right[right_index])\n",
    "                right_index += 1\n",
    "                \n",
    "        return result         \n",
    "    \n",
    "    \n",
    "    def sortArray(self,nums):\n",
    "        arr_length = len(nums)\n",
    "        if  arr_length <= 1:\n",
    "            return nums        \n",
    "        mid = (arr_length//2)\n",
    "        left_array = self.sortArray(nums[:mid])\n",
    "        right_array = self.sortArray(nums[mid:])\n",
    "        return self.mergeArray(left_array,right_array)\n",
    " \n",
    "num = [5,2,-3,1]    \n",
    "obj = Solution2()\n",
    "print(obj.sortArray(num))                \n",
    "            \n",
    "num = []\n",
    "obj = Solution2()\n",
    "print(obj.sortArray(num)) "
   ]
  },
  {
   "cell_type": "code",
   "execution_count": null,
   "metadata": {},
   "outputs": [],
   "source": []
  }
 ],
 "metadata": {
  "kernelspec": {
   "display_name": "Python 3",
   "language": "python",
   "name": "python3"
  },
  "language_info": {
   "codemirror_mode": {
    "name": "ipython",
    "version": 3
   },
   "file_extension": ".py",
   "mimetype": "text/x-python",
   "name": "python",
   "nbconvert_exporter": "python",
   "pygments_lexer": "ipython3",
   "version": "3.8.5"
  }
 },
 "nbformat": 4,
 "nbformat_minor": 4
}
