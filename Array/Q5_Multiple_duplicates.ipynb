{
 "cells": [
  {
   "cell_type": "code",
   "execution_count": null,
   "metadata": {},
   "outputs": [],
   "source": [
    "# Problem 5\n",
    "\n",
    "# How do you find duplicate numbers in an array if it contains multiple duplicates\n",
    "\n",
    "# A = [1,3,4,5,6,6,6,11,9]\n",
    "\n",
    "# result : 6 ,6,6 \n"
   ]
  },
  {
   "cell_type": "code",
   "execution_count": null,
   "metadata": {},
   "outputs": [],
   "source": []
  },
  {
   "cell_type": "code",
   "execution_count": 3,
   "metadata": {},
   "outputs": [
    {
     "name": "stdout",
     "output_type": "stream",
     "text": [
      "[15, 15, 6, 15]\n"
     ]
    }
   ],
   "source": [
    "\n",
    "def getDuplicates(A):\n",
    "    dup_arr = []\n",
    "    for i in range(0,len(A)):\n",
    "        for j in range(i+1,len(A)):\n",
    "            if A[i] == A[j]:\n",
    "                dup_arr.append(A[j])\n",
    "    return dup_arr\n",
    "\n",
    "\n",
    "A = [1,13,4,15,6,6,11,12,15,15]\n",
    "\n",
    "print(getDuplicates(A))\n",
    "     \n",
    "                \n"
   ]
  },
  {
   "cell_type": "code",
   "execution_count": 12,
   "metadata": {},
   "outputs": [
    {
     "name": "stdout",
     "output_type": "stream",
     "text": [
      "[15, 15, 15, 6, 6]\n"
     ]
    }
   ],
   "source": [
    "# using hashing, Count frequency of occurrence of each element and the elements with frequency more than 1\n",
    "\n",
    "def getDuplicates(arr):\n",
    "    dict = {}\n",
    "    dup_ele = []\n",
    "    for ele in arr:\n",
    "        try:\n",
    "            dict[ele] += 1\n",
    "        except:\n",
    "            dict[ele] = 1\n",
    "             \n",
    "    for item in dict:\n",
    "        if(dict[item] > 1):\n",
    "            for i in range(dict[item]):\n",
    "                dup_ele.append(item)\n",
    "    return dup_ele\n",
    "A = [1,13,4,15,6,6,11,12,15,15]\n",
    "\n",
    "print(getDuplicates(A))\n"
   ]
  },
  {
   "cell_type": "code",
   "execution_count": null,
   "metadata": {},
   "outputs": [],
   "source": []
  }
 ],
 "metadata": {
  "kernelspec": {
   "display_name": "Python 3",
   "language": "python",
   "name": "python3"
  },
  "language_info": {
   "codemirror_mode": {
    "name": "ipython",
    "version": 3
   },
   "file_extension": ".py",
   "mimetype": "text/x-python",
   "name": "python",
   "nbconvert_exporter": "python",
   "pygments_lexer": "ipython3",
   "version": "3.8.5"
  }
 },
 "nbformat": 4,
 "nbformat_minor": 4
}
