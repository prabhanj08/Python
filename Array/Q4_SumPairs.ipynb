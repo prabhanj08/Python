{
 "cells": [
  {
   "cell_type": "code",
   "execution_count": null,
   "metadata": {},
   "outputs": [],
   "source": [
    "# Problem 4\n",
    "\n",
    "# How do you find all pairs of an integer array whose sum is equal to a given number\n",
    "\n",
    "# A = [1,2,3,4,5,6,7]\n",
    "\n",
    "# input = 5\n",
    "# output = 1,4,2,3\n"
   ]
  },
  {
   "cell_type": "code",
   "execution_count": 5,
   "metadata": {},
   "outputs": [
    {
     "name": "stdout",
     "output_type": "stream",
     "text": [
      "[[1, 4], [2, 3], [6, -1]]\n"
     ]
    }
   ],
   "source": [
    "\n",
    "\n",
    "def f_sumpairs(A,num):\n",
    "    keys = []\n",
    "    for i in range(0,len(A)):\n",
    "        for j in range(i+1,len(A)):\n",
    "            if A[i] + A[j] == num :\n",
    "                keys.append([A[i],A[j]])\n",
    "    return keys\n",
    "    \n",
    "            \n",
    "A = [1,2,3,4,5,6,7,-1]\n",
    "print(f_sumpairs(A,5))\n",
    "            \n",
    "        \n",
    "\n"
   ]
  },
  {
   "cell_type": "code",
   "execution_count": null,
   "metadata": {},
   "outputs": [],
   "source": []
  }
 ],
 "metadata": {
  "kernelspec": {
   "display_name": "Python 3",
   "language": "python",
   "name": "python3"
  },
  "language_info": {
   "codemirror_mode": {
    "name": "ipython",
    "version": 3
   },
   "file_extension": ".py",
   "mimetype": "text/x-python",
   "name": "python",
   "nbconvert_exporter": "python",
   "pygments_lexer": "ipython3",
   "version": "3.8.5"
  }
 },
 "nbformat": 4,
 "nbformat_minor": 4
}
