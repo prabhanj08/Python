{
 "cells": [
  {
   "cell_type": "code",
   "execution_count": null,
   "metadata": {},
   "outputs": [],
   "source": [
    "# Problem 2\n",
    "\n",
    "# Finding multiple missing values from a unsorted list / array of n numbers\n",
    "\n",
    "# input \n",
    "# A = [1,3,4,5,7,8,9]\n",
    "\n",
    "# result\n",
    "# 2,6"
   ]
  },
  {
   "cell_type": "code",
   "execution_count": 20,
   "metadata": {},
   "outputs": [
    {
     "name": "stdout",
     "output_type": "stream",
     "text": [
      "[2, 3, 4, 6, 7, 8, 9, 10, 11, 12, 13, 14, 15, 16, 17, 18, 19, 20, 21, 22, 23, 24]\n",
      "[2, 6]\n"
     ]
    }
   ],
   "source": [
    "#listA = [1,5,15,6,7,11,14]\n",
    "\n",
    "\n",
    "# printing original list\n",
    "#print(\"Given list : \",A)\n",
    "\n",
    "# using zip\n",
    "#res = []\n",
    "#for m,n in zip(listA,listA[1:]):\n",
    "#   if n - m > 1:\n",
    "#      for i in range(m+1,n):\n",
    "#         if i not in res:   \n",
    "#            res.append(i)\n",
    "\n",
    "#print (res) \n",
    "\n",
    "def miss_num(A):\n",
    "    res = []\n",
    "    for m, n in zip(A,A[1:]):\n",
    "       if n - m > 1:\n",
    "           for i in range (m+1,n):\n",
    "               if i not in res :\n",
    "                    res.append(i)\n",
    "    return res\n",
    "\n",
    "#TC1\n",
    "arr = [1,5,25,6,7,11,14,23]\n",
    "print(miss_num(arr))\n",
    "#TC2\n",
    "A = [1,3,4,5,7,8,9]\n",
    "print(miss_num(A))\n",
    "                    "
   ]
  },
  {
   "cell_type": "code",
   "execution_count": 11,
   "metadata": {},
   "outputs": [
    {
     "name": "stdout",
     "output_type": "stream",
     "text": [
      "\f",
      "\n"
     ]
    }
   ],
   "source": []
  },
  {
   "cell_type": "code",
   "execution_count": null,
   "metadata": {},
   "outputs": [],
   "source": []
  }
 ],
 "metadata": {
  "kernelspec": {
   "display_name": "Python 3",
   "language": "python",
   "name": "python3"
  },
  "language_info": {
   "codemirror_mode": {
    "name": "ipython",
    "version": 3
   },
   "file_extension": ".py",
   "mimetype": "text/x-python",
   "name": "python",
   "nbconvert_exporter": "python",
   "pygments_lexer": "ipython3",
   "version": "3.8.5"
  }
 },
 "nbformat": 4,
 "nbformat_minor": 4
}
