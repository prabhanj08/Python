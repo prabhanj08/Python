{
 "cells": [
  {
   "cell_type": "code",
   "execution_count": null,
   "metadata": {},
   "outputs": [],
   "source": [
    "# Problem 1"
   ]
  },
  {
   "cell_type": "code",
   "execution_count": null,
   "metadata": {},
   "outputs": [],
   "source": [
    "# How do you find the missing number in a given integer array of 1 to n"
   ]
  },
  {
   "cell_type": "code",
   "execution_count": 20,
   "metadata": {},
   "outputs": [],
   "source": [
    "# solution 1\n",
    "\n",
    "# using math formulae (n + 1)*(n + 2)/2\n",
    "\n",
    "def find_value(arr):\n",
    "    n = len(arr)\n",
    "    total = int((n + 1)*(n + 2)/2)\n",
    "    sum_val = sum(arr)\n",
    "    print(total,sum_val)\n",
    "    return (total - sum_val)\n",
    "    \n",
    "    "
   ]
  },
  {
   "cell_type": "code",
   "execution_count": 21,
   "metadata": {},
   "outputs": [
    {
     "name": "stdout",
     "output_type": "stream",
     "text": [
      "55 47\n",
      "8\n"
     ]
    }
   ],
   "source": [
    "#TC1\n",
    "A = [1,2,4,5,3,6,7,9,10]\n",
    "print(find_value(A))\n",
    "\n"
   ]
  },
  {
   "cell_type": "code",
   "execution_count": 10,
   "metadata": {},
   "outputs": [
    {
     "name": "stdout",
     "output_type": "stream",
     "text": [
      "4\n"
     ]
    }
   ],
   "source": [
    "# solution 2\n",
    "\n",
    "# Using loop and range\n",
    "\n",
    "def getMissingNo(a, n):\n",
    "    i, total = 0, 1\n",
    "\n",
    "    for i in range(2, n + 2):\n",
    "        total += i\n",
    "        total -= a[i - 2]\n",
    "    return total\n",
    "\n",
    "\n",
    "#TC1\n",
    "arr = [1, 2, 3, 5]\n",
    "print(getMissingNo(arr, len(arr)))\n",
    "\n",
    "\n"
   ]
  },
  {
   "cell_type": "code",
   "execution_count": null,
   "metadata": {},
   "outputs": [],
   "source": []
  }
 ],
 "metadata": {
  "kernelspec": {
   "display_name": "Python 3",
   "language": "python",
   "name": "python3"
  },
  "language_info": {
   "codemirror_mode": {
    "name": "ipython",
    "version": 3
   },
   "file_extension": ".py",
   "mimetype": "text/x-python",
   "name": "python",
   "nbconvert_exporter": "python",
   "pygments_lexer": "ipython3",
   "version": "3.8.5"
  }
 },
 "nbformat": 4,
 "nbformat_minor": 4
}
