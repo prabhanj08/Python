{
 "cells": [
  {
   "cell_type": "code",
   "execution_count": 2,
   "metadata": {},
   "outputs": [],
   "source": [
    "# Problem 3\n",
    "\n",
    "# How do you find the duplicate number on a given integer array f n elements\n",
    "\n",
    "# A = [1,3,4,5,6,6,6,11,9]\n",
    "\n",
    "# result : 6"
   ]
  },
  {
   "cell_type": "code",
   "execution_count": 16,
   "metadata": {},
   "outputs": [
    {
     "name": "stdout",
     "output_type": "stream",
     "text": [
      "[1, 6]\n"
     ]
    }
   ],
   "source": [
    "# Solution 1\n",
    "# using 2 Loops\n",
    "# outer loop getting first element till length of array \n",
    "# inner loop get element and compare with element from outer loop\n",
    "# append duplicate to temp array and return it with out duplicate entries\n",
    "\n",
    "\n",
    "def getDuplicates(arr):\n",
    "    dup_arr = []\n",
    "    for i in range(0,len(arr)):\n",
    "        for j in range(i+1,len(arr)):\n",
    "            if arr[i] == arr[j]:\n",
    "                if arr[j] not in dup_arr:\n",
    "                    dup_arr.append(arr[j])\n",
    "    return dup_arr            \n",
    "        \n",
    "A = [1,3,4,5,6,6,11,9,6,8,1]\n",
    "print(getDuplicates(A))\n",
    "    \n",
    "    "
   ]
  },
  {
   "cell_type": "code",
   "execution_count": 17,
   "metadata": {},
   "outputs": [
    {
     "name": "stdout",
     "output_type": "stream",
     "text": [
      "[6, 6, 1]\n"
     ]
    }
   ],
   "source": [
    "# solution 2\n",
    "# create a temp list, add elements into it by checking with element from loop\n",
    "\n",
    "def getDuplicates(A):\n",
    "    temp_arr = []\n",
    "    temp_arr1 = []\n",
    "    for i in A:\n",
    "        if i not in temp_arr1:\n",
    "            temp_arr1.append(i)\n",
    "        else:\n",
    "            temp_arr.append(i)\n",
    "    return temp_arr\n",
    "\n",
    "\n",
    "A = [1,3,4,5,6,6,11,9,6,8,1]\n",
    "print(getDuplicates(A))            \n",
    "            \n",
    "    "
   ]
  },
  {
   "cell_type": "code",
   "execution_count": 18,
   "metadata": {},
   "outputs": [
    {
     "name": "stdout",
     "output_type": "stream",
     "text": [
      "[15, 6]\n"
     ]
    }
   ],
   "source": [
    "# Solution 3\n",
    "\n",
    "# using hash concept\n",
    "\n",
    "def getDuplicates(arr):\n",
    "    dict = {}\n",
    "    dup_ele = []\n",
    "    for ele in arr:\n",
    "        try:\n",
    "            dict[ele] += 1\n",
    "        except:\n",
    "            dict[ele] = 1\n",
    "             \n",
    "    for item in dict:\n",
    "        if(dict[item] > 1):\n",
    "            dup_ele.append(item)\n",
    "            #print(item, end=\" \")\n",
    "    return dup_ele\n",
    "\n",
    "A = [1,13,14,15,6,6,11,12,15,15]\n",
    "print(getDuplicates(A))\n"
   ]
  },
  {
   "cell_type": "code",
   "execution_count": null,
   "metadata": {},
   "outputs": [],
   "source": []
  }
 ],
 "metadata": {
  "kernelspec": {
   "display_name": "Python 3",
   "language": "python",
   "name": "python3"
  },
  "language_info": {
   "codemirror_mode": {
    "name": "ipython",
    "version": 3
   },
   "file_extension": ".py",
   "mimetype": "text/x-python",
   "name": "python",
   "nbconvert_exporter": "python",
   "pygments_lexer": "ipython3",
   "version": "3.8.5"
  }
 },
 "nbformat": 4,
 "nbformat_minor": 4
}
