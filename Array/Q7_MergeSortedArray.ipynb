{
 "cells": [
  {
   "cell_type": "code",
   "execution_count": null,
   "metadata": {},
   "outputs": [],
   "source": [
    "# Problem 7\n",
    "\n",
    "# Merging two sorted array"
   ]
  },
  {
   "cell_type": "code",
   "execution_count": 19,
   "metadata": {},
   "outputs": [
    {
     "name": "stdout",
     "output_type": "stream",
     "text": [
      "[1, 2, 3, 4, 5, 6, 8, 9, 15]\n"
     ]
    }
   ],
   "source": [
    "\n",
    "def mergeSortedArray(A1,A2):\n",
    "    i = 0\n",
    "    j = 0\n",
    "    k = 0\n",
    "    m = len(A1)\n",
    "    n = len(A2)\n",
    "    A3 = [None] * (m + n)\n",
    "    while i < m  and j < n:\n",
    "        if A1[i] < A2[j]:\n",
    "            A3[k] = A1[i]\n",
    "            i = i + 1\n",
    "            k = k + 1\n",
    "        else:           \n",
    "            A3[k] = A2[j]\n",
    "            k = k + 1\n",
    "            j = j + 1\n",
    "           \n",
    "    while(i < m):\n",
    "        A3[k] = A1[i];\n",
    "        i = i + 1\n",
    "        k = k + 1  \n",
    "        \n",
    "    while(j < n):\n",
    "        A3[k] = A2[j];  \n",
    "        k = k + 1\n",
    "        j = j + 1\n",
    "    return A3     \n",
    "   \n",
    "\n",
    "A = [1,2,4,8]\n",
    "B = [3,5,6,9,15]\n",
    "\n",
    "print(mergeSortedArray(A,B))\n",
    "\n",
    "        "
   ]
  },
  {
   "cell_type": "code",
   "execution_count": null,
   "metadata": {},
   "outputs": [],
   "source": []
  },
  {
   "cell_type": "code",
   "execution_count": null,
   "metadata": {},
   "outputs": [],
   "source": []
  },
  {
   "cell_type": "code",
   "execution_count": null,
   "metadata": {},
   "outputs": [],
   "source": []
  }
 ],
 "metadata": {
  "kernelspec": {
   "display_name": "Python 3",
   "language": "python",
   "name": "python3"
  },
  "language_info": {
   "codemirror_mode": {
    "name": "ipython",
    "version": 3
   },
   "file_extension": ".py",
   "mimetype": "text/x-python",
   "name": "python",
   "nbconvert_exporter": "python",
   "pygments_lexer": "ipython3",
   "version": "3.8.5"
  }
 },
 "nbformat": 4,
 "nbformat_minor": 4
}
