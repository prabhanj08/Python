{
 "cells": [
  {
   "cell_type": "code",
   "execution_count": null,
   "metadata": {},
   "outputs": [],
   "source": [
    "# Python Yield funtion\n",
    "\n",
    "#The yield statement suspends function’s execution and sends a value back to the caller,\n",
    "#but retains enough state to enable function to resume where it is left off. When resumed, \n",
    "#the function continues execution immediately after the last yield run. \n",
    "#This allows its code to produce a series of values over time, \n",
    "#rather than computing them at once and sending them back like a list."
   ]
  },
  {
   "cell_type": "code",
   "execution_count": 2,
   "metadata": {},
   "outputs": [
    {
     "name": "stdout",
     "output_type": "stream",
     "text": [
      "1\n",
      "4\n",
      "9\n",
      "16\n",
      "25\n",
      "36\n",
      "49\n",
      "64\n",
      "81\n",
      "100\n"
     ]
    }
   ],
   "source": [
    "def YieldGen():\n",
    "    i = 1;\n",
    "    \n",
    "    while True:\n",
    "        yield i * i\n",
    "        i += 1\n",
    "    \n",
    "\n",
    "for num in YieldGen():\n",
    "    if num > 100:\n",
    "        break\n",
    "    print(num)    \n",
    "    "
   ]
  },
  {
   "cell_type": "code",
   "execution_count": null,
   "metadata": {},
   "outputs": [],
   "source": []
  }
 ],
 "metadata": {
  "kernelspec": {
   "display_name": "Python 3",
   "language": "python",
   "name": "python3"
  },
  "language_info": {
   "codemirror_mode": {
    "name": "ipython",
    "version": 3
   },
   "file_extension": ".py",
   "mimetype": "text/x-python",
   "name": "python",
   "nbconvert_exporter": "python",
   "pygments_lexer": "ipython3",
   "version": "3.8.5"
  }
 },
 "nbformat": 4,
 "nbformat_minor": 4
}
