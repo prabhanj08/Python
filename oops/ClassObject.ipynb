{
 "cells": [
  {
   "cell_type": "code",
   "execution_count": null,
   "metadata": {},
   "outputs": [],
   "source": [
    "# Class\n",
    "# object\n",
    "# Class variables\n",
    "# static variables\n"
   ]
  },
  {
   "cell_type": "code",
   "execution_count": 13,
   "metadata": {},
   "outputs": [
    {
     "name": "stdout",
     "output_type": "stream",
     "text": [
      "Student name : Sai Prabhanj, College : JNTU\n"
     ]
    }
   ],
   "source": [
    "class College:\n",
    "    college_name = 'JNTU'  # Class or static variable \n",
    "    \n",
    "    def __init__(self,firstname,lastname):  # __init__ is a constructor invoked whenever object got instantiated \n",
    "        self.firstname = firstname  # Instance variables\n",
    "        self.lastname = lastname  # Instance varaiables\n",
    "    \n",
    "    def student_data(self):                \n",
    "        return \"Student name : \" +  self.firstname +' ' + self.lastname +', ' + \"College : \" + College.college_name   \n",
    "\n",
    "\n",
    "\n",
    "obj = College(\"Sai\",\"Prabhanj\")  # instantiation of a class\n",
    "print(obj.student_data())\n",
    "        "
   ]
  },
  {
   "cell_type": "code",
   "execution_count": null,
   "metadata": {},
   "outputs": [],
   "source": []
  },
  {
   "cell_type": "code",
   "execution_count": null,
   "metadata": {},
   "outputs": [],
   "source": []
  }
 ],
 "metadata": {
  "kernelspec": {
   "display_name": "Python 3",
   "language": "python",
   "name": "python3"
  },
  "language_info": {
   "codemirror_mode": {
    "name": "ipython",
    "version": 3
   },
   "file_extension": ".py",
   "mimetype": "text/x-python",
   "name": "python",
   "nbconvert_exporter": "python",
   "pygments_lexer": "ipython3",
   "version": "3.8.5"
  }
 },
 "nbformat": 4,
 "nbformat_minor": 4
}
