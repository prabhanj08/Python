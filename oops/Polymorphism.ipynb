{
 "cells": [
  {
   "cell_type": "code",
   "execution_count": null,
   "metadata": {},
   "outputs": [],
   "source": [
    "# Polymorphism \n"
   ]
  },
  {
   "cell_type": "code",
   "execution_count": 1,
   "metadata": {},
   "outputs": [],
   "source": [
    "class Square():\n",
    "    side = 5  # static variable   \n",
    "    def calculate_area_sq(self):\n",
    "        return self.side * self.side\n",
    "    \n",
    "class Triangle:\n",
    "    base = 5\n",
    "    height = 4\n",
    "    def calculate_area_tri(self):\n",
    "        return 0.5 * self.base * self.height    "
   ]
  },
  {
   "cell_type": "code",
   "execution_count": 2,
   "metadata": {},
   "outputs": [
    {
     "name": "stdout",
     "output_type": "stream",
     "text": [
      "Area of square:  25\n",
      "Area of triangle:  10.0\n"
     ]
    }
   ],
   "source": [
    "sq = Square()\n",
    "tri = Triangle()\n",
    "print(\"Area of square: \", sq.calculate_area_sq())\n",
    "print(\"Area of triangle: \", tri.calculate_area_tri())"
   ]
  },
  {
   "cell_type": "code",
   "execution_count": null,
   "metadata": {},
   "outputs": [],
   "source": []
  }
 ],
 "metadata": {
  "kernelspec": {
   "display_name": "Python 3",
   "language": "python",
   "name": "python3"
  },
  "language_info": {
   "codemirror_mode": {
    "name": "ipython",
    "version": 3
   },
   "file_extension": ".py",
   "mimetype": "text/x-python",
   "name": "python",
   "nbconvert_exporter": "python",
   "pygments_lexer": "ipython3",
   "version": "3.8.5"
  }
 },
 "nbformat": 4,
 "nbformat_minor": 4
}
